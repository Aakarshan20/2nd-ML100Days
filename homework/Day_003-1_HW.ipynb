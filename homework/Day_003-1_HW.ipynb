{
 "cells": [
  {
   "cell_type": "markdown",
   "metadata": {},
   "source": [
    "Day3-1 作業\n",
    "\n",
    "在小量的資料上，我們用眼睛就可以看得出來程式碼是否有跑出我們理想中的結果。請嘗試想像一個你需要的資料結構 (裡面的值是隨機的)，然後用程式碼範例的方法把它變成 DataFrame"
   ]
  },
  {
   "cell_type": "code",
   "execution_count": 6,
   "metadata": {},
   "outputs": [],
   "source": [
    "import pandas as pd\n",
    "import random"
   ]
  },
  {
   "cell_type": "code",
   "execution_count": 26,
   "metadata": {},
   "outputs": [
    {
     "name": "stdout",
     "output_type": "stream",
     "text": [
      "   country  population\n",
      "0   Taiwan    23751890\n",
      "1    Japan   691571131\n",
      "2       UK    64631339\n",
      "3  Germany    81496939\n"
     ]
    }
   ],
   "source": [
    "country_list = ['Taiwan', 'Japan', 'UK', 'Germany']\n",
    "\n",
    "population_list = [random.randrange(23000000,24000000),random.randrange(90000000,1100000000),\\\n",
    "random.randrange(63000000,65000000),random.randrange(81000000,82000000)]\n",
    "                                                     \n",
    "list_labels = ['country', 'population']\n",
    "list_cols = [country_list, population_list]\n",
    "\n",
    "zipped = list(zip(list_labels, list_cols))\n",
    "\n",
    "#print(dict(zipped))\n",
    "population = pd.DataFrame(dict(zipped))\n",
    "print(population)"
   ]
  },
  {
   "cell_type": "code",
   "execution_count": 30,
   "metadata": {},
   "outputs": [
    {
     "name": "stdout",
     "output_type": "stream",
     "text": [
      "country              UK\n",
      "population    691571131\n",
      "dtype: object\n"
     ]
    }
   ],
   "source": [
    "print(population.max())"
   ]
  },
  {
   "cell_type": "code",
   "execution_count": null,
   "metadata": {},
   "outputs": [],
   "source": []
  }
 ],
 "metadata": {
  "kernelspec": {
   "display_name": "Python 3",
   "language": "python",
   "name": "python3"
  },
  "language_info": {
   "codemirror_mode": {
    "name": "ipython",
    "version": 3
   },
   "file_extension": ".py",
   "mimetype": "text/x-python",
   "name": "python",
   "nbconvert_exporter": "python",
   "pygments_lexer": "ipython3",
   "version": "3.6.5"
  }
 },
 "nbformat": 4,
 "nbformat_minor": 2
}
