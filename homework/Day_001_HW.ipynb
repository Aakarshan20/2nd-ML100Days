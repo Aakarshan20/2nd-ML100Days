{
 "cells": [
  {
   "cell_type": "markdown",
   "metadata": {},
   "source": [
    "作業1：\n",
    "\n",
    "請上 Kaggle, 在 Competitions 或 Dataset 中找一組競賽或資料並寫下：\n",
    "\n",
    "答: \n",
    "    競賽資料如下: https://www.kaggle.com/c/two-sigma-financial-news\n",
    "\n",
    "1. 你選的這組資料為何重要\n",
    "\n",
    "答:\n",
    "    此競賽是要跟據新聞來預測股票價格，且獎金有1000000\n",
    "\n",
    "2. 資料從何而來 (tips: 譬如提供者是誰、以什麼方式蒐集)\n",
    "\n",
    "答: \n",
    "    來自兩個資料集\n",
    "    1. Market data (2007 to present) provided by Intrinio - contains financial market information such as opening price, closing price, trading volume, calculated returns, etc.\n",
    "    2. News data (2007 to present) Source: Thomson Reuters - contains information about news articles/alerts published about assets, such as article details, sentiment, and other commentary.\n",
    "\n",
    "\n",
    "3. 蒐集而來的資料型態為何\n",
    "\n",
    "答: \n",
    "    在market data中的資料型態如下:\n",
    "        time(datetime64[ns, UTC]) \n",
    "            - the current time (in marketdata, all rows are taken at 22:00 UTC)\n",
    "        assetCode(object) \n",
    "            - a unique id of an asset\n",
    "        assetName(category) \n",
    "            - the name that corresponds to a group of assetCodes. These may be \"Unknown\" if the corresponding \n",
    "            assetCode does not have any rows in the news data.\n",
    "        universe(float64) \n",
    "            - a boolean indicating whether or not the instrument on that day will be included in scoring. \n",
    "            This value is not provided outside of the training data time period. \n",
    "            The trading universe on a given date is the set of instruments that are avilable for trading (the scoring\n",
    "            function will not consider instruments that are not in the trading universe). \n",
    "            The trading universe changes daily.\n",
    "        volume(float64) \n",
    "            - trading volume in shares for the day\n",
    "        close(float64) \n",
    "            - the close price for the day (not adjusted for splits or dividends)\n",
    "        open(float64) \n",
    "            - the open price for the day (not adjusted for splits or dividends)\n",
    "        returnsClosePrevRaw1(float64) \n",
    "            - see returns explanation above\n",
    "        returnsOpenPrevRaw1(float64) \n",
    "            - see returns explanation above\n",
    "        returnsClosePrevMktres1(float64) \n",
    "            - see returns explanation above\n",
    "        returnsOpenPrevMktres1(float64) \n",
    "            - see returns explanation above\n",
    "        returnsClosePrevRaw10(float64) \n",
    "            - see returns explanation above\n",
    "        returnsOpenPrevRaw10(float64) \n",
    "            - see returns explanation above\n",
    "        returnsClosePrevMktres10(float64) \n",
    "            - see returns explanation above\n",
    "        returnsOpenPrevMktres10(float64) \n",
    "            - see returns explanation above\n",
    "        returnsOpenNextMktres10(float64) \n",
    "            - 10 day, market-residualized return. \n",
    "            This is the target variable used in competition scoring. \n",
    "            The market data has been filtered such that returnsOpenNextMktres10 is always not null.\n",
    "    在News data中的資料型態如下:\n",
    "        time(datetime64[ns, UTC]) \n",
    "            - UTC timestamp showing when the data was available on the feed (second precision)\n",
    "        sourceTimestamp(datetime64[ns, UTC]) \n",
    "            - UTC timestamp of this news item when it was created\n",
    "        firstCreated(datetime64[ns, UTC]) \n",
    "            - UTC timestamp for the first version of the item\n",
    "        sourceId(object) \n",
    "            - an Id for each news item\n",
    "        headline(object) \n",
    "            - the item's headline\n",
    "        urgency(int8) \n",
    "            - differentiates story types (1: alert, 3: article)\n",
    "        takeSequence(int16) \n",
    "            - the take sequence number of the news item, starting at 1. \n",
    "            For a given story, alerts and articles have separate sequences.\n",
    "        provider(category) \n",
    "            - identifier for the organization which provided the news item (e.g. RTRS for Reuters News, \n",
    "            BSW for Business Wire)\n",
    "        subjects(category) \n",
    "            - topic codes and company identifiers that relate to this news item. \n",
    "            Topic codes describe the news item's subject matter. \n",
    "            These can cover asset classes, geographies, events, industries/sectors, and other types.\n",
    "        audiences(category) \n",
    "            - identifies which desktop news product(s) the news item belongs to. \n",
    "            They are typically tailored to specific audiences.\n",
    "            (e.g. \"M\" for Money International News Service and \"FB\" for French General News Service)\n",
    "        bodySize(int32) \n",
    "            - the size of the current version of the story body in characters\n",
    "        companyCount(int8) \n",
    "            - the number of companies explicitly listed in the news item in the subjects field headlineTag(object) \n",
    "            - the Thomson Reuters headline tag for the news item\n",
    "        marketCommentary(bool) \n",
    "            - boolean indicator that the item is discussing general market conditions, such as \n",
    "            \"After the Bell\" summaries\n",
    "        sentenceCount(int16) \n",
    "            - the total number of sentences in the news item. Can be used in conjunction with firstMentionSentence \n",
    "            to determine the relative position of the first mention in the item.\n",
    "        wordCount(int32) \n",
    "            - the total number of lexical tokens (words and punctuation) in the news item\n",
    "        assetCodes(category) \n",
    "            - list of assets mentioned in the item\n",
    "        assetName(category) \n",
    "            - name of the asset\n",
    "        firstMentionSentence(int16) \n",
    "            - the first sentence, starting with the headline, in which the scored asset is mentioned.\n",
    "                1: headline\n",
    "                2: first sentence of the story body\n",
    "                3: second sentence of the body, etc\n",
    "                0: the asset being scored was not found in the news item's headline or body text. \n",
    "            As a result, the entire news item's text (headline + body) will be used to determine the sentiment score.\n",
    "        relevance(float32) \n",
    "            - a decimal number indicating the relevance of the news item to the asset. It ranges from 0 to 1. \n",
    "            If the asset is mentioned in the headline, the relevance is set to 1. When the item is an alert \n",
    "            (urgency == 1), relevance should be gauged by firstMentionSentence instead.\n",
    "        sentimentClass(int8) \n",
    "            - indicates the predominant sentiment class for this news item with respect to the asset. \n",
    "            The indicated class is the one with the highest probability.\n",
    "        sentimentNegative(float32) \n",
    "            - probability that the sentiment of the news item was negative for the asset\n",
    "        sentimentNeutral(float32) \n",
    "            - probability that the sentiment of the news item was neutral for the asset\n",
    "        sentimentPositive(float32) \n",
    "            - probability that the sentiment of the news item was positive for the asset\n",
    "        sentimentWordCount(int32) \n",
    "            - the number of lexical tokens in the sections of the item text that are deemed relevant to the asset. \n",
    "            This can be used in conjunction with wordCount to determine the proportion of the news item discussing \n",
    "            the asset.\n",
    "        noveltyCount12H(int16) \n",
    "            - The 12 hour novelty of the content within a news item on a particular asset. It is calculated by \n",
    "            comparing it with the asset-specific text over a cache of previous news items that contain the asset.\n",
    "        noveltyCount24H(int16) \n",
    "            - same as above, but for 24 hours\n",
    "        noveltyCount3D(int16) \n",
    "            - same as above, but for 3 days\n",
    "        noveltyCount5D(int16) \n",
    "            - same as above, but for 5 days\n",
    "        noveltyCount7D(int16) \n",
    "            - same as above, but for 7 days\n",
    "        volumeCounts12H(int16) \n",
    "            - the 12 hour volume of news for each asset. A cache of previous news items is maintained and the number \n",
    "            of news items that mention the asset within each of five historical periods is calculated.\n",
    "        volumeCounts24H(int16) \n",
    "            - same as above, but for 24 hours\n",
    "        volumeCounts3D(int16) \n",
    "            - same as above, but for 3 days\n",
    "        volumeCounts5D(int16) \n",
    "            - same as above, but for 5 days\n",
    "        volumeCounts7D(int16) \n",
    "            - same as above, but for 7 days        \n",
    "\n",
    "4. 這組資料想解決的問題如何評估\n",
    "\n",
    "答: \n",
    "    將兩筆資料集做比對，找出各參數間的因果關係"
   ]
  },
  {
   "cell_type": "markdown",
   "metadata": {},
   "source": [
    "作業2：\n",
    "\n",
    "想像你經營一個自由載客車隊，你希望能透過數據分析以提升業績，請你思考並描述你如何規劃整體的分析/解決方案：\n",
    "\n",
    "1. 核心問題為何 (tips：如何定義 「提升業績 & 你的假設」)\n",
    "    \n",
    "答:\n",
    "    提升業績: 增加載客量，減少空車率\n",
    "    我的假設: 業積與日期時間或是區域有關\n",
    "\n",
    "2. 資料從何而來 (tips：哪些資料可能會對你想問的問題產生影響 & 資料如何蒐集)\n",
    "答:\n",
    "    資料為乘客的上下車地點與上車時間\n",
    "    若為App叫車，當司機抵達接送地或是到達目的地時將地區與時間寫入資料庫\n",
    "    若為路邊攔車則忽略不計\n",
    "\n",
    "3. 蒐集而來的資料型態為何\n",
    "答:\n",
    "    startLat(float64):\n",
    "        接送地緯度\n",
    "    startLng(float64):\n",
    "        接送地經度\n",
    "    startTime(time(datetime64[ns, UTC])):\n",
    "        上車時間\n",
    "    endLat(float64):\n",
    "        目的地緯度\n",
    "    endLng(float64):\n",
    "        目的地經度\n",
    "    endTime(time(datetime64[ns, UTC])):\n",
    "        下車時間\n",
    "\n",
    "4. 你要回答的問題，其如何評估 (tips：你的假設如何驗證)\n",
    "\n",
    "答:\n",
    "    計算出每日各區域上車人數與下車人數，安排司機往人多的地方發車，減少司機待機時間"
   ]
  },
  {
   "cell_type": "markdown",
   "metadata": {},
   "source": [
    "作業3：\n",
    "\n",
    "請點選下方檢視範例依照 Day_001_example_of_metrics.ipynb 完成 Mean Squared Error 的函式"
   ]
  },
  {
   "cell_type": "code",
   "execution_count": 1,
   "metadata": {},
   "outputs": [],
   "source": [
    "import numpy as np\n",
    "import matplotlib.pyplot as plt"
   ]
  },
  {
   "cell_type": "code",
   "execution_count": 7,
   "metadata": {},
   "outputs": [
    {
     "data": {
      "image/png": "[encoded data removed]",
      "text/plain": [
       "<Figure size 432x288 with 1 Axes>"
      ]
     },
     "metadata": {
      "needs_background": "light"
     },
     "output_type": "display_data"
    }
   ],
   "source": [
    "w=3\n",
    "b=0.5\n",
    "\n",
    "x_lin = np.linspace(0,100,101)\n",
    "y=(x_lin+np.random.randn(101)*5)*w+b\n",
    "#print(y)\n",
    "plt.plot(x_lin, y, 'b.', label='data points')\n",
    "plt.title(\"Assume we have data points\")\n",
    "plt.legend(loc=2)\n",
    "plt.show()\n"
   ]
  },
  {
   "cell_type": "code",
   "execution_count": 8,
   "metadata": {
    "scrolled": true
   },
   "outputs": [
    {
     "data": {
      "image/png": "[encoded data removed]",
      "text/plain": [
       "<Figure size 432x288 with 1 Axes>"
      ]
     },
     "metadata": {
      "needs_background": "light"
     },
     "output_type": "display_data"
    }
   ],
   "source": [
    "y_hat=x_lin*w+b\n",
    "#print(y)\n",
    "plt.plot(x_lin, y, 'b.', label='data points')\n",
    "plt.plot(x_lin, y_hat, 'r-', label='prediction')\n",
    "plt.title(\"Assume we have data points(And the prediction)\")\n",
    "plt.legend(loc=2)\n",
    "plt.show()"
   ]
  },
  {
   "cell_type": "markdown",
   "metadata": {},
   "source": [
    "練習時間\n",
    "請寫一個函式用來計算 Mean Square Error\n",
    "答: "
   ]
  },
  {
   "cell_type": "code",
   "execution_count": 39,
   "metadata": {},
   "outputs": [
    {
     "name": "stdout",
     "output_type": "stream",
     "text": [
      "The Mean Square error is 14.818857109005926\n"
     ]
    }
   ],
   "source": [
    "def mean_square_error(y, yp):\n",
    "    \"\"\"\n",
    "    計算 MSE\n",
    "    Args:\n",
    "        - y: 實際值\n",
    "        - yp: 預測值\n",
    "    Return:\n",
    "        - mse: MSE\n",
    "    \"\"\"\n",
    "    return np.sqrt(((yp - y) ** 2).mean())\n",
    "\n",
    "MSE = mean_square_error(y, y_hat)\n",
    "print(f\"The Mean Square error is {MSE}\")"
   ]
  }
 ],
 "metadata": {
  "kernelspec": {
   "display_name": "Python 3",
   "language": "python",
   "name": "python3"
  },
  "language_info": {
   "codemirror_mode": {
    "name": "ipython",
    "version": 3
   },
   "file_extension": ".py",
   "mimetype": "text/x-python",
   "name": "python",
   "nbconvert_exporter": "python",
   "pygments_lexer": "ipython3",
   "version": "3.6.5"
  }
 },
 "nbformat": 4,
 "nbformat_minor": 2
}
